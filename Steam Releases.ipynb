{
 "cells": [
  {
   "attachments": {},
   "cell_type": "markdown",
   "metadata": {
    "datalore": {
     "hide_input_from_viewers": false,
     "hide_output_from_viewers": false,
     "node_id": "Data_Load",
     "sheet_delimiter": true,
     "type": "MD"
    }
   },
   "source": [
    "# Data_Load"
   ]
  },
  {
   "attachments": {},
   "cell_type": "markdown",
   "metadata": {
    "datalore": {
     "hide_input_from_viewers": true,
     "hide_output_from_viewers": true,
     "node_id": "Cxt9NnxIN8rS2sw20ZJNFd",
     "type": "MD"
    }
   },
   "source": [
    "## **Imports**"
   ]
  },
  {
   "cell_type": "code",
   "execution_count": 125,
   "metadata": {
    "datalore": {
     "hide_input_from_viewers": true,
     "hide_output_from_viewers": true,
     "node_id": "02BKh9Ymnkn929YQHOwBGN",
     "type": "CODE"
    }
   },
   "outputs": [],
   "source": [
    "import pandas as pd\n",
    "import numpy as np\n",
    "import matplotlib.pyplot as plt"
   ]
  },
  {
   "attachments": {},
   "cell_type": "markdown",
   "metadata": {
    "datalore": {
     "hide_input_from_viewers": true,
     "hide_output_from_viewers": true,
     "node_id": "rNVaNN1kxSpDJGVnIt5s7C",
     "type": "MD"
    }
   },
   "source": [
    "## **Dataset Load**"
   ]
  },
  {
   "cell_type": "code",
   "execution_count": 126,
   "metadata": {
    "datalore": {
     "hide_input_from_viewers": true,
     "hide_output_from_viewers": true,
     "node_id": "53aJhEp7nFtxU4xjABV6VL",
     "type": "CODE"
    }
   },
   "outputs": [],
   "source": [
    "game_data = pd.read_csv('csv/game_data_all.csv')\n"
   ]
  },
  {
   "cell_type": "code",
   "execution_count": 127,
   "metadata": {
    "datalore": {
     "hide_input_from_viewers": true,
     "hide_output_from_viewers": true,
     "node_id": "EwoWemcjF375ZfKegIGxfF",
     "type": "CODE"
    }
   },
   "outputs": [
    {
     "data": {
      "text/html": [
       "<div>\n",
       "<style scoped>\n",
       "    .dataframe tbody tr th:only-of-type {\n",
       "        vertical-align: middle;\n",
       "    }\n",
       "\n",
       "    .dataframe tbody tr th {\n",
       "        vertical-align: top;\n",
       "    }\n",
       "\n",
       "    .dataframe thead th {\n",
       "        text-align: right;\n",
       "    }\n",
       "</style>\n",
       "<table border=\"1\" class=\"dataframe\">\n",
       "  <thead>\n",
       "    <tr style=\"text-align: right;\">\n",
       "      <th></th>\n",
       "      <th>Unnamed: 0</th>\n",
       "      <th>game</th>\n",
       "      <th>link</th>\n",
       "      <th>release</th>\n",
       "      <th>peak_players</th>\n",
       "      <th>positive_reviews</th>\n",
       "      <th>negative_reviews</th>\n",
       "      <th>total_reviews</th>\n",
       "      <th>rating</th>\n",
       "      <th>primary_genre</th>\n",
       "      <th>store_genres</th>\n",
       "      <th>publisher</th>\n",
       "      <th>developer</th>\n",
       "      <th>detected_technologies</th>\n",
       "      <th>store_asset_mod_time</th>\n",
       "      <th>review_percentage</th>\n",
       "      <th>players_right_now</th>\n",
       "      <th>24_hour_peak</th>\n",
       "      <th>all_time_peak</th>\n",
       "      <th>all_time_peak_date</th>\n",
       "    </tr>\n",
       "  </thead>\n",
       "  <tbody>\n",
       "    <tr>\n",
       "      <th>0</th>\n",
       "      <td>0</td>\n",
       "      <td>Pizza Tower</td>\n",
       "      <td>/app/2231450/</td>\n",
       "      <td>2023-01-26</td>\n",
       "      <td>4529</td>\n",
       "      <td>19807</td>\n",
       "      <td>227</td>\n",
       "      <td>20034</td>\n",
       "      <td>96.39</td>\n",
       "      <td>Action (1)</td>\n",
       "      <td>Action (1), Indie (23)</td>\n",
       "      <td>Tour De Pizza</td>\n",
       "      <td>Tour De Pizza</td>\n",
       "      <td>Engine.GameMaker; SDK.FMOD</td>\n",
       "      <td>2023-01-10</td>\n",
       "      <td>98.0</td>\n",
       "      <td>3,101</td>\n",
       "      <td>3,606</td>\n",
       "      <td>4529</td>\n",
       "      <td>2023-03-25</td>\n",
       "    </tr>\n",
       "    <tr>\n",
       "      <th>1</th>\n",
       "      <td>1</td>\n",
       "      <td>Resident Evil 4</td>\n",
       "      <td>/app/2050650/</td>\n",
       "      <td>2023-03-24</td>\n",
       "      <td>168191</td>\n",
       "      <td>61752</td>\n",
       "      <td>1616</td>\n",
       "      <td>63368</td>\n",
       "      <td>95.75</td>\n",
       "      <td>Action (1)</td>\n",
       "      <td>Action (1), Adventure (25)</td>\n",
       "      <td>CAPCOM Co. Ltd.</td>\n",
       "      <td>CAPCOM Co. Ltd.</td>\n",
       "      <td>Engine.RE_Engine; SDK.AMD_GPU_Services</td>\n",
       "      <td>2023-03-29</td>\n",
       "      <td>97.0</td>\n",
       "      <td>46,289</td>\n",
       "      <td>47,164</td>\n",
       "      <td>168191</td>\n",
       "      <td>2023-03-25</td>\n",
       "    </tr>\n",
       "    <tr>\n",
       "      <th>2</th>\n",
       "      <td>2</td>\n",
       "      <td>The Murder of Sonic the Hedgehog</td>\n",
       "      <td>/app/2324650/</td>\n",
       "      <td>2023-03-31</td>\n",
       "      <td>15543</td>\n",
       "      <td>12643</td>\n",
       "      <td>213</td>\n",
       "      <td>12856</td>\n",
       "      <td>95.54</td>\n",
       "      <td>Casual (4)</td>\n",
       "      <td>Casual (4), Free to Play (37), Indie (23), Sim...</td>\n",
       "      <td>SEGA</td>\n",
       "      <td>SEGA</td>\n",
       "      <td>Engine.Unity; SDK.UnityBurst; SDK.cURL</td>\n",
       "      <td>2023-03-24</td>\n",
       "      <td>98.0</td>\n",
       "      <td>618</td>\n",
       "      <td>776</td>\n",
       "      <td>15543</td>\n",
       "      <td>2023-03-31</td>\n",
       "    </tr>\n",
       "    <tr>\n",
       "      <th>3</th>\n",
       "      <td>3</td>\n",
       "      <td>Pineapple on pizza</td>\n",
       "      <td>/app/2263010/</td>\n",
       "      <td>2023-03-28</td>\n",
       "      <td>1415</td>\n",
       "      <td>11717</td>\n",
       "      <td>209</td>\n",
       "      <td>11926</td>\n",
       "      <td>95.39</td>\n",
       "      <td>Indie (23)</td>\n",
       "      <td>Casual (4), Free to Play (37), Indie (23)</td>\n",
       "      <td>Majorariatto</td>\n",
       "      <td>Majorariatto</td>\n",
       "      <td>Engine.Unity; SDK.cURL</td>\n",
       "      <td>2023-03-22</td>\n",
       "      <td>98.0</td>\n",
       "      <td>101</td>\n",
       "      <td>101</td>\n",
       "      <td>1415</td>\n",
       "      <td>2023-03-28</td>\n",
       "    </tr>\n",
       "    <tr>\n",
       "      <th>4</th>\n",
       "      <td>4</td>\n",
       "      <td>Hi-Fi RUSH</td>\n",
       "      <td>/app/1817230/</td>\n",
       "      <td>2023-01-25</td>\n",
       "      <td>6132</td>\n",
       "      <td>14152</td>\n",
       "      <td>324</td>\n",
       "      <td>14476</td>\n",
       "      <td>95.09</td>\n",
       "      <td>Action (1)</td>\n",
       "      <td>Action (1)</td>\n",
       "      <td>Bethesda Softworks</td>\n",
       "      <td>Tango Gameworks</td>\n",
       "      <td>Engine.Unreal; SDK.Intel_OID; SDK.Intel_XeSS; ...</td>\n",
       "      <td>2023-04-11</td>\n",
       "      <td>97.0</td>\n",
       "      <td>630</td>\n",
       "      <td>664</td>\n",
       "      <td>6132</td>\n",
       "      <td>2023-01-29</td>\n",
       "    </tr>\n",
       "  </tbody>\n",
       "</table>\n",
       "</div>"
      ],
      "text/plain": [
       "   Unnamed: 0                              game           link     release  \\\n",
       "0           0                       Pizza Tower  /app/2231450/  2023-01-26   \n",
       "1           1                   Resident Evil 4  /app/2050650/  2023-03-24   \n",
       "2           2  The Murder of Sonic the Hedgehog  /app/2324650/  2023-03-31   \n",
       "3           3                Pineapple on pizza  /app/2263010/  2023-03-28   \n",
       "4           4                        Hi-Fi RUSH  /app/1817230/  2023-01-25   \n",
       "\n",
       "   peak_players  positive_reviews  negative_reviews  total_reviews  rating  \\\n",
       "0          4529             19807               227          20034   96.39   \n",
       "1        168191             61752              1616          63368   95.75   \n",
       "2         15543             12643               213          12856   95.54   \n",
       "3          1415             11717               209          11926   95.39   \n",
       "4          6132             14152               324          14476   95.09   \n",
       "\n",
       "  primary_genre                                       store_genres  \\\n",
       "0    Action (1)                             Action (1), Indie (23)   \n",
       "1    Action (1)                         Action (1), Adventure (25)   \n",
       "2    Casual (4)  Casual (4), Free to Play (37), Indie (23), Sim...   \n",
       "3    Indie (23)          Casual (4), Free to Play (37), Indie (23)   \n",
       "4    Action (1)                                         Action (1)   \n",
       "\n",
       "            publisher        developer  \\\n",
       "0       Tour De Pizza    Tour De Pizza   \n",
       "1     CAPCOM Co. Ltd.  CAPCOM Co. Ltd.   \n",
       "2                SEGA             SEGA   \n",
       "3        Majorariatto     Majorariatto   \n",
       "4  Bethesda Softworks  Tango Gameworks   \n",
       "\n",
       "                               detected_technologies store_asset_mod_time  \\\n",
       "0                         Engine.GameMaker; SDK.FMOD           2023-01-10   \n",
       "1             Engine.RE_Engine; SDK.AMD_GPU_Services           2023-03-29   \n",
       "2             Engine.Unity; SDK.UnityBurst; SDK.cURL           2023-03-24   \n",
       "3                             Engine.Unity; SDK.cURL           2023-03-22   \n",
       "4  Engine.Unreal; SDK.Intel_OID; SDK.Intel_XeSS; ...           2023-04-11   \n",
       "\n",
       "   review_percentage players_right_now 24_hour_peak  all_time_peak  \\\n",
       "0               98.0             3,101        3,606           4529   \n",
       "1               97.0            46,289       47,164         168191   \n",
       "2               98.0               618          776          15543   \n",
       "3               98.0               101          101           1415   \n",
       "4               97.0               630          664           6132   \n",
       "\n",
       "  all_time_peak_date  \n",
       "0         2023-03-25  \n",
       "1         2023-03-25  \n",
       "2         2023-03-31  \n",
       "3         2023-03-28  \n",
       "4         2023-01-29  "
      ]
     },
     "execution_count": 127,
     "metadata": {},
     "output_type": "execute_result"
    }
   ],
   "source": [
    "game_data.head()"
   ]
  },
  {
   "cell_type": "code",
   "execution_count": 128,
   "metadata": {
    "datalore": {
     "hide_input_from_viewers": true,
     "hide_output_from_viewers": true,
     "node_id": "pz8Hj8v0QKV5Gt0VgXJPYM",
     "type": "CODE"
    }
   },
   "outputs": [
    {
     "name": "stdout",
     "output_type": "stream",
     "text": [
      "<class 'pandas.core.frame.DataFrame'>\n",
      "RangeIndex: 67571 entries, 0 to 67570\n",
      "Data columns (total 20 columns):\n",
      " #   Column                 Non-Null Count  Dtype  \n",
      "---  ------                 --------------  -----  \n",
      " 0   Unnamed: 0             67571 non-null  int64  \n",
      " 1   game                   67571 non-null  object \n",
      " 2   link                   67571 non-null  object \n",
      " 3   release                67571 non-null  object \n",
      " 4   peak_players           67571 non-null  int64  \n",
      " 5   positive_reviews       67571 non-null  int64  \n",
      " 6   negative_reviews       67571 non-null  int64  \n",
      " 7   total_reviews          67571 non-null  int64  \n",
      " 8   rating                 67571 non-null  float64\n",
      " 9   primary_genre          67561 non-null  object \n",
      " 10  store_genres           67514 non-null  object \n",
      " 11  publisher              67110 non-null  object \n",
      " 12  developer              67443 non-null  object \n",
      " 13  detected_technologies  60265 non-null  object \n",
      " 14  store_asset_mod_time   67275 non-null  object \n",
      " 15  review_percentage      47767 non-null  float64\n",
      " 16  players_right_now      67565 non-null  object \n",
      " 17  24_hour_peak           67565 non-null  object \n",
      " 18  all_time_peak          67571 non-null  int64  \n",
      " 19  all_time_peak_date     67565 non-null  object \n",
      "dtypes: float64(2), int64(6), object(12)\n",
      "memory usage: 10.3+ MB\n"
     ]
    }
   ],
   "source": [
    "game_data.info()"
   ]
  },
  {
   "cell_type": "code",
   "execution_count": 129,
   "metadata": {},
   "outputs": [],
   "source": [
    "def missing_values(data) :\n",
    "    missing = data.isnull().sum()\n",
    "    print('##############################')\n",
    "    print('\\n')\n",
    "    print(missing[missing > 0])\n",
    "    print('\\n')\n",
    "    print('##############################')"
   ]
  },
  {
   "cell_type": "code",
   "execution_count": 130,
   "metadata": {},
   "outputs": [
    {
     "name": "stdout",
     "output_type": "stream",
     "text": [
      "##############################\n",
      "\n",
      "\n",
      "primary_genre               10\n",
      "store_genres                57\n",
      "publisher                  461\n",
      "developer                  128\n",
      "detected_technologies     7306\n",
      "store_asset_mod_time       296\n",
      "review_percentage        19804\n",
      "players_right_now            6\n",
      "24_hour_peak                 6\n",
      "all_time_peak_date           6\n",
      "dtype: int64\n",
      "\n",
      "\n",
      "##############################\n"
     ]
    }
   ],
   "source": [
    "missing_values(game_data)"
   ]
  },
  {
   "attachments": {},
   "cell_type": "markdown",
   "metadata": {
    "datalore": {
     "hide_input_from_viewers": true,
     "hide_output_from_viewers": true,
     "node_id": "D6UJhPL4SWMADYJ4Drhosv",
     "type": "MD"
    }
   },
   "source": [
    "## **Data Manipulation**"
   ]
  },
  {
   "cell_type": "code",
   "execution_count": 131,
   "metadata": {
    "datalore": {
     "hide_input_from_viewers": true,
     "hide_output_from_viewers": true,
     "node_id": "5aZE6DzhTgXUsAby9QGDWI",
     "type": "CODE"
    }
   },
   "outputs": [],
   "source": [
    "def change_name(data, col1, col2) :\n",
    "    data.rename(columns = {col1 : col2}, inplace = True)"
   ]
  },
  {
   "cell_type": "code",
   "execution_count": 132,
   "metadata": {
    "datalore": {
     "hide_input_from_viewers": true,
     "hide_output_from_viewers": true,
     "node_id": "I4nDOLIY1PrPvQSwlostPG",
     "type": "CODE"
    }
   },
   "outputs": [],
   "source": [
    "change_name(game_data, 'Unnamed: 0', 'id')"
   ]
  },
  {
   "cell_type": "code",
   "execution_count": 133,
   "metadata": {},
   "outputs": [],
   "source": [
    "drop_list = ['link', 'store_genres', 'store_asset_mod_time', 'players_right_now', '24_hour_peak']\n",
    "game_data.drop(columns = drop_list, inplace = True)"
   ]
  },
  {
   "cell_type": "code",
   "execution_count": 143,
   "metadata": {},
   "outputs": [],
   "source": [
    "game_data['primary_genre'] = game_data['primary_genre'].astype(str)\n",
    "game_data['detected_technologies'] = game_data['detected_technologies'].astype(str)"
   ]
  },
  {
   "cell_type": "code",
   "execution_count": 135,
   "metadata": {},
   "outputs": [],
   "source": [
    "def rem_brackets(text) :\n",
    "    return text.split('(')[0].rstrip()"
   ]
  },
  {
   "cell_type": "code",
   "execution_count": 136,
   "metadata": {},
   "outputs": [],
   "source": [
    "game_data['primary_genre'] = game_data['primary_genre'].apply(rem_brackets)"
   ]
  },
  {
   "cell_type": "code",
   "execution_count": 141,
   "metadata": {},
   "outputs": [],
   "source": [
    "def technologies_clean(text) :\n",
    "    return text.split(';')[0].lstrip('Engine.')"
   ]
  },
  {
   "cell_type": "code",
   "execution_count": 144,
   "metadata": {},
   "outputs": [],
   "source": [
    "game_data['detected_technologies'] = game_data['detected_technologies'].apply(technologies_clean)"
   ]
  }
 ],
 "metadata": {
  "datalore": {
   "base_environment": "default",
   "computation_mode": "JUPYTER",
   "package_manager": "pip",
   "packages": [],
   "report_row_ids": [],
   "version": 3
  },
  "kernelspec": {
   "display_name": "Python",
   "language": "python",
   "name": "python"
  }
 },
 "nbformat": 4,
 "nbformat_minor": 4
}
