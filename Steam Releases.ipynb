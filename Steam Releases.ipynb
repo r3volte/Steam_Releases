{
 "cells":[
  {
   "cell_type":"markdown",
   "source":[
    "# Data_Load"
   ],
   "attachments":{
    
   },
   "metadata":{
    "datalore":{
     "node_id":"Data_Load",
     "type":"MD",
     "hide_input_from_viewers":false,
     "hide_output_from_viewers":false,
     "sheet_delimiter":true
    }
   }
  },
  {
   "cell_type":"markdown",
   "source":[
    "## **Imports**"
   ],
   "attachments":{
    
   },
   "metadata":{
    "datalore":{
     "node_id":"Cxt9NnxIN8rS2sw20ZJNFd",
     "type":"MD",
     "hide_input_from_viewers":true,
     "hide_output_from_viewers":true
    }
   }
  },
  {
   "cell_type":"code",
   "source":[
    "import pandas as pd\n",
    "import numpy as np\n",
    "import matplotlib.pyplot as plt"
   ],
   "execution_count":2,
   "outputs":[
    
   ],
   "metadata":{
    "datalore":{
     "node_id":"02BKh9Ymnkn929YQHOwBGN",
     "type":"CODE",
     "hide_input_from_viewers":true,
     "hide_output_from_viewers":true
    }
   }
  },
  {
   "cell_type":"markdown",
   "source":[
    "## **Dataset Load**"
   ],
   "attachments":{
    
   },
   "metadata":{
    "datalore":{
     "node_id":"rNVaNN1kxSpDJGVnIt5s7C",
     "type":"MD",
     "hide_input_from_viewers":true,
     "hide_output_from_viewers":true
    }
   }
  },
  {
   "cell_type":"code",
   "source":[
    "game_data = pd.read_csv('\/data\/notebook_files\/game_data_all.csv')\n",
    "game_release = pd.read_csv('\/data\/notebook_files\/games-release-ALL.csv')\n"
   ],
   "execution_count":3,
   "outputs":[
    
   ],
   "metadata":{
    "datalore":{
     "node_id":"53aJhEp7nFtxU4xjABV6VL",
     "type":"CODE",
     "hide_input_from_viewers":true,
     "hide_output_from_viewers":true
    }
   }
  },
  {
   "cell_type":"code",
   "source":[
    "game_data.head()"
   ],
   "execution_count":4,
   "outputs":[
    {
     "data":{
      "text\/html":[
       "<div>\n",
       "<style scoped>\n",
       "    .dataframe tbody tr th:only-of-type {\n",
       "        vertical-align: middle;\n",
       "    }\n",
       "\n",
       "    .dataframe tbody tr th {\n",
       "        vertical-align: top;\n",
       "    }\n",
       "\n",
       "    .dataframe thead th {\n",
       "        text-align: right;\n",
       "    }\n",
       "<\/style>\n",
       "<table border=\"1\" class=\"dataframe\">\n",
       "  <thead>\n",
       "    <tr style=\"text-align: right;\">\n",
       "      <th><\/th>\n",
       "      <th>Unnamed: 0<\/th>\n",
       "      <th>game<\/th>\n",
       "      <th>link<\/th>\n",
       "      <th>release<\/th>\n",
       "      <th>peak_players<\/th>\n",
       "      <th>positive_reviews<\/th>\n",
       "      <th>negative_reviews<\/th>\n",
       "      <th>total_reviews<\/th>\n",
       "      <th>rating<\/th>\n",
       "      <th>primary_genre<\/th>\n",
       "      <th>store_genres<\/th>\n",
       "      <th>publisher<\/th>\n",
       "      <th>developer<\/th>\n",
       "      <th>detected_technologies<\/th>\n",
       "      <th>store_asset_mod_time<\/th>\n",
       "      <th>review_percentage<\/th>\n",
       "      <th>players_right_now<\/th>\n",
       "      <th>24_hour_peak<\/th>\n",
       "      <th>all_time_peak<\/th>\n",
       "      <th>all_time_peak_date<\/th>\n",
       "    <\/tr>\n",
       "  <\/thead>\n",
       "  <tbody>\n",
       "    <tr>\n",
       "      <th>0<\/th>\n",
       "      <td>0<\/td>\n",
       "      <td>Pizza Tower<\/td>\n",
       "      <td>\/app\/2231450\/<\/td>\n",
       "      <td>2023-01-26<\/td>\n",
       "      <td>4529<\/td>\n",
       "      <td>19807<\/td>\n",
       "      <td>227<\/td>\n",
       "      <td>20034<\/td>\n",
       "      <td>96.39<\/td>\n",
       "      <td>Action (1)<\/td>\n",
       "      <td>Action (1), Indie (23)<\/td>\n",
       "      <td>Tour De Pizza<\/td>\n",
       "      <td>Tour De Pizza<\/td>\n",
       "      <td>Engine.GameMaker; SDK.FMOD<\/td>\n",
       "      <td>2023-01-10<\/td>\n",
       "      <td>98.0<\/td>\n",
       "      <td>3,101<\/td>\n",
       "      <td>3,606<\/td>\n",
       "      <td>4529<\/td>\n",
       "      <td>2023-03-25<\/td>\n",
       "    <\/tr>\n",
       "    <tr>\n",
       "      <th>1<\/th>\n",
       "      <td>1<\/td>\n",
       "      <td>Resident Evil 4<\/td>\n",
       "      <td>\/app\/2050650\/<\/td>\n",
       "      <td>2023-03-24<\/td>\n",
       "      <td>168191<\/td>\n",
       "      <td>61752<\/td>\n",
       "      <td>1616<\/td>\n",
       "      <td>63368<\/td>\n",
       "      <td>95.75<\/td>\n",
       "      <td>Action (1)<\/td>\n",
       "      <td>Action (1), Adventure (25)<\/td>\n",
       "      <td>CAPCOM Co. Ltd.<\/td>\n",
       "      <td>CAPCOM Co. Ltd.<\/td>\n",
       "      <td>Engine.RE_Engine; SDK.AMD_GPU_Services<\/td>\n",
       "      <td>2023-03-29<\/td>\n",
       "      <td>97.0<\/td>\n",
       "      <td>46,289<\/td>\n",
       "      <td>47,164<\/td>\n",
       "      <td>168191<\/td>\n",
       "      <td>2023-03-25<\/td>\n",
       "    <\/tr>\n",
       "    <tr>\n",
       "      <th>2<\/th>\n",
       "      <td>2<\/td>\n",
       "      <td>The Murder of Sonic the Hedgehog<\/td>\n",
       "      <td>\/app\/2324650\/<\/td>\n",
       "      <td>2023-03-31<\/td>\n",
       "      <td>15543<\/td>\n",
       "      <td>12643<\/td>\n",
       "      <td>213<\/td>\n",
       "      <td>12856<\/td>\n",
       "      <td>95.54<\/td>\n",
       "      <td>Casual (4)<\/td>\n",
       "      <td>Casual (4), Free to Play (37), Indie (23), Sim...<\/td>\n",
       "      <td>SEGA<\/td>\n",
       "      <td>SEGA<\/td>\n",
       "      <td>Engine.Unity; SDK.UnityBurst; SDK.cURL<\/td>\n",
       "      <td>2023-03-24<\/td>\n",
       "      <td>98.0<\/td>\n",
       "      <td>618<\/td>\n",
       "      <td>776<\/td>\n",
       "      <td>15543<\/td>\n",
       "      <td>2023-03-31<\/td>\n",
       "    <\/tr>\n",
       "    <tr>\n",
       "      <th>3<\/th>\n",
       "      <td>3<\/td>\n",
       "      <td>Pineapple on pizza<\/td>\n",
       "      <td>\/app\/2263010\/<\/td>\n",
       "      <td>2023-03-28<\/td>\n",
       "      <td>1415<\/td>\n",
       "      <td>11717<\/td>\n",
       "      <td>209<\/td>\n",
       "      <td>11926<\/td>\n",
       "      <td>95.39<\/td>\n",
       "      <td>Indie (23)<\/td>\n",
       "      <td>Casual (4), Free to Play (37), Indie (23)<\/td>\n",
       "      <td>Majorariatto<\/td>\n",
       "      <td>Majorariatto<\/td>\n",
       "      <td>Engine.Unity; SDK.cURL<\/td>\n",
       "      <td>2023-03-22<\/td>\n",
       "      <td>98.0<\/td>\n",
       "      <td>101<\/td>\n",
       "      <td>101<\/td>\n",
       "      <td>1415<\/td>\n",
       "      <td>2023-03-28<\/td>\n",
       "    <\/tr>\n",
       "    <tr>\n",
       "      <th>4<\/th>\n",
       "      <td>4<\/td>\n",
       "      <td>Hi-Fi RUSH<\/td>\n",
       "      <td>\/app\/1817230\/<\/td>\n",
       "      <td>2023-01-25<\/td>\n",
       "      <td>6132<\/td>\n",
       "      <td>14152<\/td>\n",
       "      <td>324<\/td>\n",
       "      <td>14476<\/td>\n",
       "      <td>95.09<\/td>\n",
       "      <td>Action (1)<\/td>\n",
       "      <td>Action (1)<\/td>\n",
       "      <td>Bethesda Softworks<\/td>\n",
       "      <td>Tango Gameworks<\/td>\n",
       "      <td>Engine.Unreal; SDK.Intel_OID; SDK.Intel_XeSS; ...<\/td>\n",
       "      <td>2023-04-11<\/td>\n",
       "      <td>97.0<\/td>\n",
       "      <td>630<\/td>\n",
       "      <td>664<\/td>\n",
       "      <td>6132<\/td>\n",
       "      <td>2023-01-29<\/td>\n",
       "    <\/tr>\n",
       "  <\/tbody>\n",
       "<\/table>\n",
       "<\/div>"
      ]
     },
     "metadata":{
      
     },
     "output_type":"display_data"
    }
   ],
   "metadata":{
    "datalore":{
     "node_id":"EwoWemcjF375ZfKegIGxfF",
     "type":"CODE",
     "hide_input_from_viewers":true,
     "hide_output_from_viewers":true
    }
   }
  },
  {
   "cell_type":"code",
   "source":[
    "game_release.head()"
   ],
   "execution_count":5,
   "outputs":[
    {
     "data":{
      "text\/html":[
       "<div>\n",
       "<style scoped>\n",
       "    .dataframe tbody tr th:only-of-type {\n",
       "        vertical-align: middle;\n",
       "    }\n",
       "\n",
       "    .dataframe tbody tr th {\n",
       "        vertical-align: top;\n",
       "    }\n",
       "\n",
       "    .dataframe thead th {\n",
       "        text-align: right;\n",
       "    }\n",
       "<\/style>\n",
       "<table border=\"1\" class=\"dataframe\">\n",
       "  <thead>\n",
       "    <tr style=\"text-align: right;\">\n",
       "      <th><\/th>\n",
       "      <th>Unnamed: 0<\/th>\n",
       "      <th>game<\/th>\n",
       "      <th>link<\/th>\n",
       "      <th>release<\/th>\n",
       "      <th>peak_players<\/th>\n",
       "      <th>positive_reviews<\/th>\n",
       "      <th>negative_reviews<\/th>\n",
       "      <th>total_reviews<\/th>\n",
       "      <th>rating<\/th>\n",
       "    <\/tr>\n",
       "  <\/thead>\n",
       "  <tbody>\n",
       "    <tr>\n",
       "      <th>0<\/th>\n",
       "      <td>0<\/td>\n",
       "      <td>Pizza Tower<\/td>\n",
       "      <td>\/app\/2231450\/<\/td>\n",
       "      <td>Jan 26 2023<\/td>\n",
       "      <td>4,529<\/td>\n",
       "      <td>19,807<\/td>\n",
       "      <td>227<\/td>\n",
       "      <td>227<\/td>\n",
       "      <td>96.39%<\/td>\n",
       "    <\/tr>\n",
       "    <tr>\n",
       "      <th>1<\/th>\n",
       "      <td>1<\/td>\n",
       "      <td>Resident Evil 4<\/td>\n",
       "      <td>\/app\/2050650\/<\/td>\n",
       "      <td>Mar 24 2023<\/td>\n",
       "      <td>168,191<\/td>\n",
       "      <td>61,752<\/td>\n",
       "      <td>1,616<\/td>\n",
       "      <td>1,616<\/td>\n",
       "      <td>95.75%<\/td>\n",
       "    <\/tr>\n",
       "    <tr>\n",
       "      <th>2<\/th>\n",
       "      <td>2<\/td>\n",
       "      <td>The Murder of Sonic the Hedgehog<\/td>\n",
       "      <td>\/app\/2324650\/<\/td>\n",
       "      <td>Mar 31 2023<\/td>\n",
       "      <td>15,543<\/td>\n",
       "      <td>12,643<\/td>\n",
       "      <td>213<\/td>\n",
       "      <td>213<\/td>\n",
       "      <td>95.54%<\/td>\n",
       "    <\/tr>\n",
       "    <tr>\n",
       "      <th>3<\/th>\n",
       "      <td>3<\/td>\n",
       "      <td>Pineapple on pizza<\/td>\n",
       "      <td>\/app\/2263010\/<\/td>\n",
       "      <td>Mar 28 2023<\/td>\n",
       "      <td>1,415<\/td>\n",
       "      <td>11,717<\/td>\n",
       "      <td>209<\/td>\n",
       "      <td>209<\/td>\n",
       "      <td>95.39%<\/td>\n",
       "    <\/tr>\n",
       "    <tr>\n",
       "      <th>4<\/th>\n",
       "      <td>4<\/td>\n",
       "      <td>Hi-Fi RUSH<\/td>\n",
       "      <td>\/app\/1817230\/<\/td>\n",
       "      <td>Jan 25 2023<\/td>\n",
       "      <td>6,132<\/td>\n",
       "      <td>14,152<\/td>\n",
       "      <td>324<\/td>\n",
       "      <td>324<\/td>\n",
       "      <td>95.09%<\/td>\n",
       "    <\/tr>\n",
       "  <\/tbody>\n",
       "<\/table>\n",
       "<\/div>"
      ]
     },
     "metadata":{
      
     },
     "output_type":"display_data"
    }
   ],
   "metadata":{
    "datalore":{
     "node_id":"IYgs0XIqchf629mXOAlpQj",
     "type":"CODE",
     "hide_input_from_viewers":true,
     "hide_output_from_viewers":true
    }
   }
  },
  {
   "cell_type":"code",
   "source":[
    "game_data.info()"
   ],
   "execution_count":6,
   "outputs":[
    {
     "name":"stdout",
     "text":[
      "<class 'pandas.core.frame.DataFrame'>\n",
      "RangeIndex: 67571 entries, 0 to 67570\n",
      "Data columns (total 20 columns):\n",
      " #   Column                 Non-Null Count  Dtype  \n",
      "---  ------                 --------------  -----  \n",
      " 0   Unnamed: 0             67571 non-null  int64  \n",
      " 1   game                   67571 non-null  object \n",
      " 2   link                   67571 non-null  object \n",
      " 3   release                67571 non-null  object \n",
      " 4   peak_players           67571 non-null  int64  \n",
      " 5   positive_reviews       67571 non-null  int64  \n",
      " 6   negative_reviews       67571 non-null  int64  \n",
      " 7   total_reviews          67571 non-null  int64  \n",
      " 8   rating                 67571 non-null  float64\n",
      " 9   primary_genre          67561 non-null  object \n",
      " 10  store_genres           67514 non-null  object \n",
      " 11  publisher              67129 non-null  object \n",
      " 12  developer              67445 non-null  object \n",
      " 13  detected_technologies  60265 non-null  object \n",
      " 14  store_asset_mod_time   67275 non-null  object \n",
      " 15  review_percentage      47767 non-null  float64\n",
      " 16  players_right_now      67565 non-null  object \n",
      " 17  24_hour_peak           67565 non-null  object \n",
      " 18  all_time_peak          67571 non-null  int64  \n",
      " 19  all_time_peak_date     67565 non-null  object \n",
      "dtypes: float64(2), int64(6), object(12)\n",
      "memory usage: 10.3+ MB\n"
     ],
     "output_type":"stream"
    }
   ],
   "metadata":{
    "datalore":{
     "node_id":"pz8Hj8v0QKV5Gt0VgXJPYM",
     "type":"CODE",
     "hide_input_from_viewers":true,
     "hide_output_from_viewers":true
    }
   }
  },
  {
   "cell_type":"code",
   "source":[
    "game_data.describe()"
   ],
   "execution_count":7,
   "outputs":[
    {
     "data":{
      "text\/html":[
       "<div>\n",
       "<style scoped>\n",
       "    .dataframe tbody tr th:only-of-type {\n",
       "        vertical-align: middle;\n",
       "    }\n",
       "\n",
       "    .dataframe tbody tr th {\n",
       "        vertical-align: top;\n",
       "    }\n",
       "\n",
       "    .dataframe thead th {\n",
       "        text-align: right;\n",
       "    }\n",
       "<\/style>\n",
       "<table border=\"1\" class=\"dataframe\">\n",
       "  <thead>\n",
       "    <tr style=\"text-align: right;\">\n",
       "      <th><\/th>\n",
       "      <th>Unnamed: 0<\/th>\n",
       "      <th>peak_players<\/th>\n",
       "      <th>positive_reviews<\/th>\n",
       "      <th>negative_reviews<\/th>\n",
       "      <th>total_reviews<\/th>\n",
       "      <th>rating<\/th>\n",
       "      <th>review_percentage<\/th>\n",
       "      <th>all_time_peak<\/th>\n",
       "    <\/tr>\n",
       "  <\/thead>\n",
       "  <tbody>\n",
       "    <tr>\n",
       "      <th>count<\/th>\n",
       "      <td>67571.000000<\/td>\n",
       "      <td>6.757100e+04<\/td>\n",
       "      <td>6.757100e+04<\/td>\n",
       "      <td>67571.000000<\/td>\n",
       "      <td>6.757100e+04<\/td>\n",
       "      <td>67571.000000<\/td>\n",
       "      <td>47767.000000<\/td>\n",
       "      <td>6.757100e+04<\/td>\n",
       "    <\/tr>\n",
       "    <tr>\n",
       "      <th>mean<\/th>\n",
       "      <td>33785.000000<\/td>\n",
       "      <td>9.528674e+02<\/td>\n",
       "      <td>1.273527e+03<\/td>\n",
       "      <td>216.893801<\/td>\n",
       "      <td>1.490421e+03<\/td>\n",
       "      <td>65.288208<\/td>\n",
       "      <td>74.840497<\/td>\n",
       "      <td>9.629879e+02<\/td>\n",
       "    <\/tr>\n",
       "    <tr>\n",
       "      <th>std<\/th>\n",
       "      <td>19506.211857<\/td>\n",
       "      <td>1.979093e+04<\/td>\n",
       "      <td>2.955163e+04<\/td>\n",
       "      <td>5434.959528<\/td>\n",
       "      <td>3.400923e+04<\/td>\n",
       "      <td>14.059623<\/td>\n",
       "      <td>18.764257<\/td>\n",
       "      <td>2.017869e+04<\/td>\n",
       "    <\/tr>\n",
       "    <tr>\n",
       "      <th>min<\/th>\n",
       "      <td>0.000000<\/td>\n",
       "      <td>0.000000e+00<\/td>\n",
       "      <td>0.000000e+00<\/td>\n",
       "      <td>0.000000<\/td>\n",
       "      <td>1.000000e+00<\/td>\n",
       "      <td>15.090000<\/td>\n",
       "      <td>0.000000<\/td>\n",
       "      <td>0.000000e+00<\/td>\n",
       "    <\/tr>\n",
       "    <tr>\n",
       "      <th>25%<\/th>\n",
       "      <td>16892.500000<\/td>\n",
       "      <td>3.000000e+00<\/td>\n",
       "      <td>5.000000e+00<\/td>\n",
       "      <td>1.000000<\/td>\n",
       "      <td>7.000000e+00<\/td>\n",
       "      <td>56.530000<\/td>\n",
       "      <td>64.000000<\/td>\n",
       "      <td>3.000000e+00<\/td>\n",
       "    <\/tr>\n",
       "    <tr>\n",
       "      <th>50%<\/th>\n",
       "      <td>33785.000000<\/td>\n",
       "      <td>7.000000e+00<\/td>\n",
       "      <td>1.900000e+01<\/td>\n",
       "      <td>6.000000<\/td>\n",
       "      <td>2.600000e+01<\/td>\n",
       "      <td>66.760000<\/td>\n",
       "      <td>79.000000<\/td>\n",
       "      <td>7.000000e+00<\/td>\n",
       "    <\/tr>\n",
       "    <tr>\n",
       "      <th>75%<\/th>\n",
       "      <td>50677.500000<\/td>\n",
       "      <td>4.600000e+01<\/td>\n",
       "      <td>9.900000e+01<\/td>\n",
       "      <td>29.000000<\/td>\n",
       "      <td>1.320000e+02<\/td>\n",
       "      <td>75.640000<\/td>\n",
       "      <td>90.000000<\/td>\n",
       "      <td>4.700000e+01<\/td>\n",
       "    <\/tr>\n",
       "    <tr>\n",
       "      <th>max<\/th>\n",
       "      <td>67570.000000<\/td>\n",
       "      <td>3.257248e+06<\/td>\n",
       "      <td>6.307931e+06<\/td>\n",
       "      <td>927317.000000<\/td>\n",
       "      <td>7.117776e+06<\/td>\n",
       "      <td>97.540000<\/td>\n",
       "      <td>100.000000<\/td>\n",
       "      <td>3.257248e+06<\/td>\n",
       "    <\/tr>\n",
       "  <\/tbody>\n",
       "<\/table>\n",
       "<\/div>"
      ]
     },
     "metadata":{
      
     },
     "output_type":"display_data"
    }
   ],
   "metadata":{
    "datalore":{
     "node_id":"dlLfhM9bdg6Rn5gdGUwXAo",
     "type":"CODE",
     "hide_input_from_viewers":true,
     "hide_output_from_viewers":true
    }
   }
  },
  {
   "cell_type":"code",
   "source":[
    "game_data.isna().sum()"
   ],
   "execution_count":16,
   "outputs":[
    {
     "data":{
      "text\/html":[
       "<pre>id                           0\n",
       "game                         0\n",
       "link                         0\n",
       "release                      0\n",
       "peak_players                 0\n",
       "positive_reviews             0\n",
       "negative_reviews             0\n",
       "total_reviews                0\n",
       "rating                       0\n",
       "primary_genre               10\n",
       "store_genres                57\n",
       "publisher                  442\n",
       "developer                  126\n",
       "detected_technologies     7306\n",
       "store_asset_mod_time       296\n",
       "review_percentage        19804\n",
       "players_right_now            6\n",
       "24_hour_peak                 6\n",
       "all_time_peak                0\n",
       "all_time_peak_date           6\n",
       "dtype: int64<\/pre>"
      ]
     },
     "metadata":{
      
     },
     "output_type":"display_data"
    }
   ],
   "metadata":{
    "datalore":{
     "node_id":"y6bWj6kvZxcGWkro3FgZ78",
     "type":"CODE",
     "hide_input_from_viewers":true,
     "hide_output_from_viewers":true
    }
   }
  },
  {
   "cell_type":"markdown",
   "source":[
    "## **Data Manipulation**"
   ],
   "attachments":{
    
   },
   "metadata":{
    "datalore":{
     "node_id":"D6UJhPL4SWMADYJ4Drhosv",
     "type":"MD",
     "hide_input_from_viewers":true,
     "hide_output_from_viewers":true
    }
   }
  },
  {
   "cell_type":"code",
   "source":[
    "def change_name(data, col1, col2) :\n",
    "    data.rename(columns = {col1 : col2}, inplace = True)"
   ],
   "execution_count":9,
   "outputs":[
    
   ],
   "metadata":{
    "datalore":{
     "node_id":"5aZE6DzhTgXUsAby9QGDWI",
     "type":"CODE",
     "hide_input_from_viewers":true,
     "hide_output_from_viewers":true
    }
   }
  },
  {
   "cell_type":"code",
   "source":[
    "change_name(game_data, 'Unnamed: 0', 'id')"
   ],
   "execution_count":10,
   "outputs":[
    
   ],
   "metadata":{
    "datalore":{
     "node_id":"I4nDOLIY1PrPvQSwlostPG",
     "type":"CODE",
     "hide_input_from_viewers":true,
     "hide_output_from_viewers":true
    }
   }
  },
  {
   "cell_type":"code",
   "source":[
    "change_name(game_release, 'Unnamed: 0', 'id')"
   ],
   "execution_count":11,
   "outputs":[
    
   ],
   "metadata":{
    "datalore":{
     "node_id":"a6QOHyabse1IXxAp2HUC99",
     "type":"CODE",
     "hide_input_from_viewers":true,
     "hide_output_from_viewers":true
    }
   }
  }
 ],
 "metadata":{
  "kernelspec":{
   "display_name":"Python",
   "language":"python",
   "name":"python"
  },
  "datalore":{
   "computation_mode":"JUPYTER",
   "package_manager":"pip",
   "base_environment":"default",
   "packages":[
    
   ],
   "report_row_ids":[
    
   ],
   "version":3
  }
 },
 "nbformat":4,
 "nbformat_minor":4
}